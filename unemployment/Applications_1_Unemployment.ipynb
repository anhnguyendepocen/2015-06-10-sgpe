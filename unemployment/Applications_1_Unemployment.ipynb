{
 "cells": [
  {
   "cell_type": "markdown",
   "metadata": {},
   "source": [
    "# Applications 1: Unemployment Flows and Search\n",
    "\n",
    "This notebook explains the solutions and method of [*Quantitative Economics*](http://quant-econ.net/py/index.html) (**QuantEcon**) of the chapters concerning [*Linear Algebra*](http://quant-econ.net/py/linear_algebra.html), [*A Lake Model of Employment and Unemployment*](http://quant-econ.net/py/lake_model.html) and [*Search with Offer Distribution Unknown*](http://quant-econ.net/py/odu.html) by Thomas J. Sargent and John Stachurski.\n",
    "\n",
    "For the most part this works as a *companion* to the online book, expanding on certains things and jumping over others. The main economic topic is **unemployment**.\n",
    "\n",
    "### About the notebook\n",
    "\n",
    "The aim of the day is to show you a cool application of what you have seen so far in the course, introduce you to some useful tools to code and solve models (using iteration, contraction mappings and simulation), and have some *fun* playing around with the models.\n",
    "\n",
    "This is **not** intendend to be a throughfully explained guide, but rather a *companion* to the text and a way to save you some time reading and unnecessary coding. **Keep the book page open!**\n",
    "\n",
    "One last thing: I have made a conscious effort to make this lecture as less math intensive as possible. However, there is going to be **a lot** of math on it - and I'm not going to have the time to explain everything. In case of getting stuck, I recommend taking a leap of faith for today and then read the relevant materials on your own.\n",
    "\n",
    "\n",
    "### About the exercises\n",
    "\n",
    "There are three kind of exercises in this notebook:\n",
    "\n",
    "- ** Quick Exercises ** are meant to be check that you are following the explanation and usually just require you to thinka bout something for a minute. No coding involved!  \n",
    "\n",
    "\n",
    "- Regular ** Exercises ** require you to do some coding, and I hope we go through all of them today! They are all solved in the App1_Solutions notebook. **Only look at it when instructed to do so!** Cheaters are the worst.\n",
    "\n",
    "\n",
    "- ** Cool Exercises ** are for you to go deeper and play with the code. Yes, *Cool* here is an euphemism for hard. But they are not *that* hard! I won't provide solutions to them all. You are invited to try them at home.\n",
    "\n",
    "<a id='top'></a>\n",
    "### Summary:\n",
    "1. [Quick Linear Algebra in Python](#part1)\n",
    "2. [The Bathtub (Lake) Model](#part2)\n",
    "3. [McCall Search](#part3)\n",
    "4. [Offer Distribution Unknown](#part4)\n",
    "5. [Wrap up](#part5)"
   ]
  },
  {
   "cell_type": "code",
   "execution_count": null,
   "metadata": {
    "collapsed": true
   },
   "outputs": [],
   "source": [
    "# Exercute this cell to import the libraries we are going to use!\n",
    "import numpy as np\n",
    "from matplotlib import pyplot as plt\n",
    "\n",
    "%matplotlib inline"
   ]
  },
  {
   "cell_type": "markdown",
   "metadata": {},
   "source": [
    "<a id='part1'></a>\n",
    "\n",
    "## 1. Quick Linear Algebra in Python\n",
    "\n",
    "It's a good idea to go over some of the Linear Algebra Chapter in the QuantEcon online book, as we are going to use many of this concepts in the rest of the lecture.\n",
    "\n",
    "We'll mostly follow the chapter here, but I'd like to direct your attention to a few things that are particularly important:\n",
    "\n",
    "### 1.1 NumPy arrays as vectors\n",
    "\n",
    "The main use of vectors and operations with vectors for economsits is that they allow us to express and solve systems of linear equations in a more compact form.\n",
    "\n",
    "The way we are going to express vectors and matrices (which are simply 2D vectors) is through making use of NumPy arrays. NumPy arrays are more suited to mathematical operations we associate with vectors, like addition and scalar multiplication.\n",
    "\n",
    "** Exercise 1.1: Arrays vs lists ** Generate two vectors below and try to add them together, multiply them by 8 and multiply them with each other. Repeat with two lists. Does it work the same way?"
   ]
  },
  {
   "cell_type": "code",
   "execution_count": null,
   "metadata": {
    "collapsed": true
   },
   "outputs": [],
   "source": [
    "# insert code here!"
   ]
  },
  {
   "cell_type": "markdown",
   "metadata": {},
   "source": [
    "Does this mean that lists and tuples are useless? Not quite, althought it depends to a certain extent on your personal taste. \n",
    "\n",
    "Lists can be used to store simulated paths (arrays can also do that, byt the sintax is bit more complicated), store numbers or variables that we may want to change later (changing a specific number of an array is not trivial!) or store other kind of objects (for example strings). Queues-like objects are a perfect candidates for lists.\n",
    "\n",
    "** Exercise 1.2 Queuing: ** Bellow is a list with people in a queue, ordered by arrival:\n",
    "- Add a person (Jon for example) to the end of the queue.\n",
    "- Add a queue-cutter in the 4th place.\n",
    "- Delete the first 3 people from the list.\n",
    "- Change the name of the first person of the list."
   ]
  },
  {
   "cell_type": "code",
   "execution_count": null,
   "metadata": {
    "collapsed": true
   },
   "outputs": [],
   "source": [
    "Queue = ['Ned','Catelyn','Robb','Sansa','Ayra','Bran','Rickon']\n",
    "# Insert code here\n",
    "print Queue"
   ]
  },
  {
   "cell_type": "markdown",
   "metadata": {
    "collapsed": true
   },
   "source": [
    "Matrices are other kind  of object that is easy to represent in NumPy arrays. Matrices are everywhere in economics, from solving systems of linear equations to econometrics. \n",
    "\n",
    "It is a good idea to get familiar with matrice notation and practice with the most common functions (like inverse, transpose and mutiplication).\n",
    "\n",
    "** Exercise 1.3 Least Squares with matrices:** The cell below imports some data into numpy arrays. Can you get the least squares estimators using matrix manipulations?\n",
    "\n",
    "_**Tip** Use the [formula](http://en.wikipedia.org/wiki/Least_squares) of least squares_"
   ]
  },
  {
   "cell_type": "code",
   "execution_count": null,
   "metadata": {
    "collapsed": true
   },
   "outputs": [],
   "source": [
    "# Execute this cell first\n",
    "from data_grab import Import_data\n",
    "y, x1, x2, x3, x4 = Import_data()\n",
    "# beta0\n",
    "x0 = np.ones(len(x1))"
   ]
  },
  {
   "cell_type": "code",
   "execution_count": null,
   "metadata": {
    "collapsed": true
   },
   "outputs": [],
   "source": [
    "# insert your code here\n",
    "betas = # put the array of coefficients\n",
    "for i in range(len(betas)):\n",
    "    print \"beta\",i,\":\",betas[i]"
   ]
  },
  {
   "cell_type": "markdown",
   "metadata": {
    "collapsed": true
   },
   "source": [
    "### 1.2 Matrices as Maps\n",
    "\n",
    "Another very useful concept is ***mapping***, which is related to the concept of *projection*. A map is a function that takes a $n$ dimensional vector from its natural $n$ dimension state-space to a new $m$ dimension state-space. \n",
    "\n",
    "<img src=\"http://imageshack.com/a/img909/5769/isfIsa.png\">\n",
    "\n",
    "(...)\n"
   ]
  },
  {
   "cell_type": "markdown",
   "metadata": {
    "collapsed": true
   },
   "source": [
    "### 1.3 Eigenvalues and Eigenvectors with NumPy\n",
    "\n",
    "Finally, remember the concept of Eigenvalues and Eigenvectors? These guys appear very often, and are related to maps: *an eigenvector of $A$ is a vector such that when the map $f(x)=Ax$ is applied, $v$ is merely scaled*.\n",
    "\n",
    "Usually Eigenvalues and Eigenvectors appear when we want to decompose a system of equations. For example, when studying sunspots and stability conditions in macro.\n",
    "\n",
    "The great news is that eigenvalues and eigenvectors are very easy to find in pyhton. It takes just one function that can be implemented using the SciPy library `linalg` or the NumPy library of the same name.\n",
    "\n",
    "Read carefully [this bit of the chapter](http://quant-econ.net/py/linear_algebra.html#eigenvalues-and-eigenvectors). You'll need it sooner than you think!\n",
    "\n",
    "[Back to top](#top)"
   ]
  },
  {
   "cell_type": "markdown",
   "metadata": {},
   "source": [
    "<a id='part2'></a>\n",
    "\n",
    "## 2. The Bathtub (Lake) Model"
   ]
  },
  {
   "cell_type": "markdown",
   "metadata": {},
   "source": [
    "### 2.1 The idea\n",
    "\n",
    "You may have been introduced to the treatment of labour markets as a rather *static* entity - think about the standard Mortensen-Pissarides model - devoted to solve for steady-states and do comparative statics exercises.\n",
    "\n",
    "A more advanced and modern view of labour markets sees them as dynamic entities, and studies the *flows* in and out of unemployment. For example: how many people lose their job in a period of time, how many people find a job and how these quantities evolve through time. This is (in a very simplistic version) what we are going to do here.\n",
    "\n",
    "The idea is that unemployment is like a Bathtub (or a Lake): \n",
    "\n",
    "<img src=\"http://imageshack.com/a/img538/4665/RwSvLi.png\">\n",
    "\n",
    "\n",
    "- Every period, a fraction $\\alpha$ of employed workers enters trought the tap into the bathtub (loses their jobs), a fraction $\\lambda$ un unemployed workers drains down the bathtub (finds a job).\n",
    "\n",
    "- Simultaneously, some water leaks out (people ~~die~~ retire at rate $d$) from both the bathtub and the deposit (from unemployed and employed workers) and we add some more to compensate for that to the bathtub ($b$, newborns entry to the labour force into unemployment).\n",
    "\n",
    "If you have ever taken a bath, you should know that if you leave the tap open and drain at the same time you can get an steady level of water - with in our case is unemployment - through any point in time.\n",
    "\n",
    "What we are going to do in the simulation is to leave the tap open (how much is our $\\alpha$) and putting a filter in the drain pipe ($\\lambda$) and watch as the water reaches a constant level.\n",
    "\n",
    "We are going to name three stocks:\n",
    "\n",
    "- $E_t$: Stock of employed workers - volume of water down the deposit.\n",
    "- $U_t$: Stock of unemployed workers - volume of water in the bath.\n",
    "- $N_t$: Labour force stock - volume of water in all the system (in the bath plus in the deposit).\n",
    "\n",
    "And two rates:\n",
    "- $u_t$: unemployment rate - % of water in the bath\n",
    "- $e_t$: employment rate - % of water in the deposit\n",
    "\n",
    "You can see that it is going to be easier to think in rates rather than stocks."
   ]
  },
  {
   "cell_type": "markdown",
   "metadata": {},
   "source": [
    "### 2.2 Matrix equations and Law of Motion\n",
    "\n",
    "In a more formal way, we can resume all of our system with the following equations:\n",
    "\n",
    "$$ E_{t+1} = (1-d)(1-\\alpha)E_t+(1-d)\\lambda U_t $$\n",
    "\n",
    "$$ U_{t+1} = (1-d)\\alpha E_t+(1-d)(1-\\lambda)U_t+b(E_t+U_t) $$\n",
    "\n",
    "This is for stocks, and for rates just divide by $N_t$:\n",
    "\n",
    "$$ e_{t+1} = (1-d)(1-\\alpha)e_t+(1-d)\\lambda u_t $$\n",
    "\n",
    "$$ u_{t+1} = (1-d)\\alpha e_t+(1-d)(1-\\lambda)u_t+b $$\n",
    "\n",
    "Whete $x_t = X_t/N_t$"
   ]
  },
  {
   "cell_type": "markdown",
   "metadata": {},
   "source": [
    "A more compact way of expressing these equations is encapsulating them in matrix form: \n",
    "\n",
    "$$\\begin{bmatrix}E_{t+1}\\\\U_{t+1}\\end{bmatrix} = \\begin{bmatrix}(1-d)(1-\\alpha)& (1-d)\\lambda \\\\(1-d)\\alpha & (1-d)(1-\\lambda)+b \\end{bmatrix}\\begin{bmatrix}E_{t}\\\\U_{t}\\end{bmatrix}$$\n",
    "\n",
    "$$ X_{t+1} = A X_{t} $$\n",
    "\n",
    "For stocks where $A$ is what we call *Transition Matrix* and  $X_t$ is a vector of stocked stocks. In rates:\n",
    "\n",
    "$$ x_{t+1} = \\hat{A} x_{t} $$\n",
    "\n",
    "Where $\\hat{A}$ is the transition matrix for rates and $x_t$ is a vector of stocked rates.\n",
    "\n",
    "This is what we just did with systems of equations above in liner algebra! And the reasons are similar: it allows us to solve it quickly and elegantly, and introduces us to the concept of ***Law of Motion***.\n",
    "\n",
    "We call a ***Law of Motion*** to the equations that encapsulate the way that stock variables evolve trough time. This is easier to see in matrix form: \n",
    "\n",
    "                        Stocks tomorrow = Transformation  matrix * Stocks today\n",
    "\n",
    "The *Transition Matrix* is then **a map**, mapping the present (stocks) into the future (stocks). So a ***Law of Motion*** is simply a mapping through time.\n"
   ]
  },
  {
   "cell_type": "markdown",
   "metadata": {},
   "source": [
    "### 2.3 Finding the Steady State\n",
    "\n",
    "We were interested in finding a **Steady-State** level of water in the bathtub, so that water today is the same as water tomorrow. This translates into solving for $X_t = X_{t+1}$ in the equations before.\n",
    "\n",
    "If $b>d$ then our stocks are constantly growing, so the volume of water is always increasing: it is never going to be the same at two points in time - just because is ever-ingresing.\n",
    "\n",
    "But if we divide by $N_t$, and $N_t$ itself is growing (at a rate $g = b-d$), then the rates system is going to always sum up to 1. So there can be a point in time where the % of water in and out of the bathtub is the same.\n",
    "\n",
    "More formally, we can find a ***fixed point*** $\\bar{x}$ such that\n",
    "\n",
    "$$ \\bar{x} = \\hat{A}\\bar{x} $$\n",
    "\n",
    "Looks familiar? It should, because the solution is that $\\bar{x}$ is an *eigenvector of $\\hat{A}$ associated with a unit eigenvalue.*\n",
    "\n",
    "See? All that boring math comes to the rescue."
   ]
  },
  {
   "cell_type": "markdown",
   "metadata": {},
   "source": [
    "**Exercise 2.1** Find the steady-state of an economy with parameters {$\\alpha$: 0.01, $\\lambda$: 0.25, $b$:0.01, $d$:0.005} using linear algebra.\n",
    "\n",
    "* _Tip 1: remember that numpy normalizes eigenvectors automatically_\n",
    "* _Tip 2: remember that $e_t + u_t = 1$_"
   ]
  },
  {
   "cell_type": "code",
   "execution_count": null,
   "metadata": {
    "collapsed": true
   },
   "outputs": [],
   "source": [
    "# Insert code here!"
   ]
  },
  {
   "cell_type": "markdown",
   "metadata": {},
   "source": [
    "Another way of finding the steady-state rates is through **iteration**: under some circumstances that are fulfilled here (mainly $\\hat{A}$ being a *contraction mapping*) from any starting $u_t$ and $e_t$ and transition matrix $\\hat{A}$  if we just *simulate* the economy (or *iterate* by using the implied $x_{t+1}$ as your new $x_t$, etc) for enough periods, you'll see the rates converge to their steady-state values."
   ]
  },
  {
   "cell_type": "markdown",
   "metadata": {},
   "source": [
    "**Exercise 2.2** Find the steady-state of an economy with parameters {$\\alpha$: 0.01, $\\lambda$: 0.25, $b$:0.01, $d$:0.005} using iteration starting from everyone being unemployed. How many iterations do you have to go through?"
   ]
  },
  {
   "cell_type": "code",
   "execution_count": null,
   "metadata": {
    "collapsed": true
   },
   "outputs": [],
   "source": [
    "# Insert code here!"
   ]
  },
  {
   "cell_type": "markdown",
   "metadata": {},
   "source": [
    "**Exercise 2.3** Modify your code above, adding two variables `u_path` and `e_path` such that the following code plots the paths of $u_t$ and $e_t$ :"
   ]
  },
  {
   "cell_type": "code",
   "execution_count": null,
   "metadata": {
    "collapsed": false
   },
   "outputs": [],
   "source": [
    "plt.plot(u_path, label=\"unemployment\") # plot the path of unemployment and label it \"unemployment\"\n",
    "plt.plot(e_path, label=\"employment\") # plot the path of employment and label it \"employment\"\n",
    "plt.xlim(0,len(u_path)-1) # set the limits to the x axis (start, finish)\n",
    "plt.ylabel(\"%\") # label the y axis\n",
    "plt.xlabel(\"iterations\") # label the x axis\n",
    "plt.legend(loc='best', fontsize=14) # show the legend\n",
    "plt.show() # show the plot"
   ]
  },
  {
   "cell_type": "markdown",
   "metadata": {},
   "source": [
    "<a id='cool1'></a>\n",
    "**Cool Exercise** You may have notice that all of this is very nice and smooth. But if you have ever seen **real** plots of time series umeployment rates they look way less cut clean. One reason is that in the real world $\\alpha$ and $\\lambda$ are not constant, but change through time.\n",
    "\n",
    "Your job is to create a plot of unemployment that reflects booms and busts by recycling your code above. \n",
    "\n",
    "a) Suppose we start from the steady state above and then **every 10 periods** we switch from *good state* to a *bad state* such that {$\\alpha$:0.02, $\\lambda$:0.20}. Morevover, every 60 periods, we have a *very bad* state {$\\alpha$:0.03, $\\lambda$:0.15}. Plot the path of unemployment for 100 periods. Does this look more realistic that the exercise before? How?\n",
    "\n",
    "b) A way to make our plot more realistic is introducing lags into the job finding rates, so $\\lambda$ recovers from a shock only slowly. That is, we allow $\\alpha$ to \"jump\", but not $\\lambda$. In particular assume lambda changes according to:\n",
    "$$ \\lambda_t = \\lambda_{t-1} + \\rho(\\bar{\\lambda} - \\lambda_{t-1})$$\n",
    "\n",
    "That is, each period, $\\lambda_t$ only recovers a fraction $\\rho$ from its distance to the steady-state. You can check that only when $\\lambda_t$ is in steady-state, $\\lambda_{t+1}=\\lambda_t$.\n",
    "\n",
    "Repeat the exercise before, but incorporating this and see how the plot changes. Play with different $\\rho$s - for example, in part a) $\\rho=1$"
   ]
  },
  {
   "cell_type": "code",
   "execution_count": null,
   "metadata": {
    "collapsed": true
   },
   "outputs": [],
   "source": [
    "# Insert code here! (or do it somewhere else)"
   ]
  },
  {
   "cell_type": "markdown",
   "metadata": {},
   "source": [
    "The book now goes over simulating the process for a single agent using some properties of Markov chains, but we are going to skip this today. By all means read it at home and try to replicate their fancy plot.\n",
    "\n",
    "[Back to top](#top)\n",
    "______________"
   ]
  },
  {
   "cell_type": "markdown",
   "metadata": {},
   "source": [
    "<a id='part3'></a>\n",
    "## 3. McCall Search"
   ]
  },
  {
   "cell_type": "markdown",
   "metadata": {},
   "source": [
    "### 3.1 The idea\n",
    "\n",
    "If you do the [*cool exercise*](#cool1) from last section, you should realise that exogenous job finding/job separation rates are pretty boring, even when we allow for some time dependance.\n",
    "\n",
    "In this section we endogenize the job finding rate by assuming that our unemployed workers can choose to reject a job offer. This is because now jobs have different wages, taken at random from a general distributions of wages. This is (the return of) the **McCall model**.\n",
    "\n",
    "In a way, this is going into some micro fundations of the Bathtub model, where in principle we were ignoring that workers are individuals whose choices influence the outcome of the labour market. And to some extent, we were also ignoring the fact that not all jobs are the same. We jsut look at it as a *black box* mechanism.\n",
    "\n",
    "From here we will follow [QuantEcon](http://quant-econ.net/py/lake_model.html#endogenous-job-finding-rate) for the formulation of the model.\n",
    "\n",
    "_**Note** The notation is pretty tricky in the book, as you should have noticed. Navigate it with care._\n",
    "\n",
    "_**Note for current SGPE** the notation here is slightly different from our tutorials._"
   ]
  },
  {
   "cell_type": "markdown",
   "metadata": {},
   "source": [
    "### 3.2 Notes on Dynamic Programing\n",
    "\n",
    "If you are a SGPE student, you should be familiar with most of terms we use here, in particular:\n",
    "* Value function\n",
    "* Policy function\n",
    "* Bellman equation\n",
    "* And althought not mention in the book, also State Variable, Choice Variable and Parameters\n",
    "\n",
    "**Quick exercise ** What is the difference between a state variable and a choice variable? And between a parameter and state variable? And between a Value function and a Bellman equation?"
   ]
  },
  {
   "cell_type": "markdown",
   "metadata": {},
   "source": [
    "Solving for the true Value function - the one that has the unknown optimal policy inside - is not trivial with pen and paper, but computers can give us a hand on this! \n",
    "\n",
    "The easiest procedure that we do here is called \"Value Function iteration\", and the principle it works on is simple: \n",
    "* We make an initial guess and try our best today. \n",
    "* Tomorrow, we take today's choice (the best we could do with our initial guess) as our guess and again try to do our best. Probably we will be able to choose something different, something better.\n",
    "* Repeat until turns out that the best we can do one day is *exactly* what we did yesterday. \n",
    "\n",
    "This means that it can't be improved upon, and thus we have found the optimal plan. It is optimal because there is no improvement we can make.\n",
    "\n",
    "There is of course some mathematical conditions all of this has to meet. But a nice result is: ***if you can encapsulate the problem in a set of Bellman equations, then you will find the optimun by iterating.***\n",
    "\n",
    "You'll learn more of how this magic works on Monday.\n",
    "\n",
    "So the variables of interest are:\n",
    "- Vector of our choice variable - which in this case in binary: $1$ means accept the wage offer, $0$ reject: $C = [C_1,C_2,...C_s] : C_i\\epsilon \\{1,0\\}$ for each wage $w_,w_2,...,w_s$.\n",
    "\n",
    "\n",
    "- Vector of value functions $V = [V_1,V_2,...V_s]$ which contains the optimal flow values associated with our choice vector. \n",
    "\n",
    "    That is, if we prefer being unemployed to accepting wage $w_1$, then $C_1 = 0$ and $V_1=U$. If we prefer accepting wage $w_2$ to being unemployed, then $C_2 = 1$ and $V_2=V_e(w_2)$."
   ]
  },
  {
   "cell_type": "markdown",
   "metadata": {},
   "source": [
    "Our Bellman are then:\n",
    "\n",
    "$$V^{t+1}_{e,s} = u(w_s)+\\beta [(1-\\alpha)V^{t}_{e,s} +\\alpha U^{t} ]$$\n",
    "\n",
    "$$U^{t+1} = u(c)+\\beta(1-\\gamma)U^{t}+\\beta\\gamma\\sum_s{\\pi_s\\max\\{V^{t}_{e,s},U^{t}\\} }$$ \n",
    "\n",
    "Notice that I have added a $\\pi_s$ that is missing from the book - and changed *slightly* the notation.\n",
    "\n",
    "**Quick exercise ** Why do we need the $\\pi_s$?\n",
    "\n",
    "**Quick exercise ** Why does the flow value $U$ don't have an $s$ subscript? Is $U$ a vector or a scalar?\n",
    "\n",
    "** Quick exercise ** If we wanted to make this a MP model, what would $\\gamma$ have to represent?"
   ]
  },
  {
   "cell_type": "markdown",
   "metadata": {},
   "source": [
    "**\\* Some deatils in case you are interested **\n",
    "\n",
    "Calling $\\hat{V}^{t}$ to the flow utility values associated with our choices at iteration $t$, our next guess$\\hat{V}^{t+1}$ is going to be:\n",
    "\n",
    "$$U^{t+1} = \\frac{ u(c)+\\beta\\gamma\\sum_s{\\pi_s*{\\hat{V}_s^{t}} }}{1-\\beta(1-\\gamma)}$$ \n",
    "\n",
    "$$V^{t+1}_s = u(w_s)+\\beta [(1-\\alpha)\\hat{V}^{t}_s +\\alpha U^{t+1} ]$$\n",
    "\n",
    "$$\\hat{V}^{t+1}=\\max\\{U^{t+1},V^{t+1}\\}$$\n",
    "\n",
    "Again, sorry if the notation is confusing!"
   ]
  },
  {
   "cell_type": "markdown",
   "metadata": {},
   "source": [
    "### 3.2 Adding government policies\n",
    "\n",
    "The QuantEcon notes add the goverment policy of setting the tax that balances the budget - as the unemployment benefit $c$ has to come from somewhere! This allows the notes to go on an explore welfare maximizing taxes and benefits.\n",
    "\n",
    "We are not as interested on this as in showing you how, once we have solved for agent's optimal choice now we can find the optimal unemployment using the Lake (Bathtub) model we just saw. Knowing who is going to be employed and unemployed we can find then the taxes that balance the budget, and play around with the combination of $(c,T)$ that maximizes the sum of everyone's utility.\n",
    "\n",
    "Beyond the interesting political economy question this poses, it allows us to see what happens when you have a problem inside of a problem - something very usual and cool that happens to real-life researchers.\n",
    "\n",
    "In this case, we need to find the optimal policy $C^*$ for the worker for each unemployment subsidy and tax first, so we can then calculate the associated steady-state unemployment rate $u^*(C^*(c,T))$ and use it to balance the budget so we get the new optimal unemployment rate $u^*(C^*(c,T^*))$. Then we can find the optimal $c^*$ that maximizes everyone's welfare. At the end, we get the unemployment rate $u^*(C^*(c^*(T^*)))$. A lot of stars here!"
   ]
  },
  {
   "cell_type": "markdown",
   "metadata": {},
   "source": [
    "### 3.3 Solving the model: Code walkthrough\n",
    "\n",
    "Let's walk through [the code](http://quant-econ.net/py/lake_model.html#implementation) to understand how it works.\n",
    "\n",
    "First, note that we have two **classes**: `LakeModel_Equilibrium`, `LakeModel` and `LakeModelAgent`. Of these we are going to ignore the last one, as we skipped that part before.\n",
    "\n",
    "`LakeModel` contains code that finds automatically, for some aprameters, the steady-state levels of employmet and unemployment. It also has two functions to simulate the paths of stocks and rates as they converge to their steady-state levels - just what we did ourselves before!\n",
    "\n",
    "`LakeModel_Equilibrium` contains functions to solve for the equilibrium of the MacCall model for a set of parameters we feed in it:\n",
    "\n",
    "\n",
    "- `__init__(params)` stores the parameters we input and creates an *instance* with them.\n",
    "\n",
    "\n",
    "   - `U(c)` is simply a CRRA utility function. Enter a consumption (c) and returns utility. It says that it works for vectors and scalars, but actually we have to modify it a bit to allow it work for scalars too.\n",
    "   \n",
    "   \n",
    "   - `solveMcCallModel(c,w,eps = 1e-6)`: Given an unemployment benefit $c$ and a vector of wages $w$ finds the **optimal choice** of the agent, $C^{*}$, which is a vector with the same length as the  vector of wages with 1s and 0s (1 if the agent accepts that wage and 0 if he rejects. It also gives us back the maximized set **Value functions** (how much flow utility do we get for each wage). If does so iterating from the initial guess of **rejecting every wage**: $C_0=[0,0,..0]$ and $V_0 = [0,0,...0]$ using the next function. The iteration stops when the difference between our initial guess for the value function and the one resulting from the iteration are *close enough* (the paramenter `eps` define what  *close enough* is).\n",
    "   \n",
    "   \n",
    "   - `iterateValueFunction(c,w,V)` given an unemployment benefit $c$, wage vector $w$ and initial guesses for value functions $V$, calculates the flow value of unemployment $U$ and being employed with each of the wages $V_s$ in $w$. Then *stacks them*, compares each flow value $V_s$ with $U$, and chooses the highest value for each case. **This will be our next guess in the solveMcCallModel() function**.\n",
    "   \n",
    "   \n",
    "   - `solve_for_steadystate(c,T)` finds the equilibrium employment and unemployment rates and total welfare, given a uemployment benefit $c$ and a tax $T$. It does do by invoking `solveMcCallModel` and a function of `LakeModel` that finds the equilibrium unemployment rate. Remember that this time the job finding rate is *endogenous* and depends in the wages that are floating around in the economy - and agent's best choices.\n",
    "   \n",
    "   \n",
    "   - `find_steady_state_tax(c)` is the last function: finds the optimal $T$ for the unemployment benefit $c$ we choose, by calling `solve_for_steadystate(c)` and finding the T that balances the goverment's budget.\n",
    "\n",
    "\n"
   ]
  },
  {
   "cell_type": "markdown",
   "metadata": {},
   "source": [
    "Recap:\n",
    "* Formulate the inital choice of the worker as ***reject all offers***, find the corresponding flow values for each wage, and then choice between them and the flow value of unemployment. Store our **choice vector** and **chosen flow values**.\n",
    "* Take the last **chosen flow values** as our initial guess and repeat step 1 until the resulting chosen values are the same as the initial values. Store this **_optimal_ choice vector** and **_optimal_ flow values**.\n",
    "* With the **_optimal_ choice vector** (or optimal policy) we can now calculate the job finding rate of the economy! Find the **equilibrium unemployment rate** for the choice of unemployment benefit $c$ and tax $T$, $u(c,T)$.\n",
    "* Once we know $u(c,T)$, find the tax $T^*$ that ensures a balanced budget, and so the corresponding **equilibrium unemployment rate** $u(c,T^*)$. \n",
    "\n",
    "***Note to current SGPE*** Notice that we haven't formulated the *reservation wage* equation. We don't need it! The computer can solve for numerical values without it using Value Function Iteration.\n",
    "\n",
    "Now let's play around with the code!"
   ]
  },
  {
   "cell_type": "markdown",
   "metadata": {},
   "source": [
    "** Exercise 3.1** Below I copy-pasted the code for the utility function. I tried to use it with scalars, but it doesn't work. Can you repair it so it does?"
   ]
  },
  {
   "cell_type": "code",
   "execution_count": null,
   "metadata": {
    "collapsed": true
   },
   "outputs": [],
   "source": [
    "def U(c, sigma=3.0):\n",
    "    r'''\n",
    "    Utility function of the agent        \n",
    "    Parameters\n",
    "    -------------        \n",
    "    c - (array or float) consumption of the agent\n",
    "    sigma - (float) risk aversion parameter  \n",
    "    Returns\n",
    "    ----------        \n",
    "    U - (array or float) Utility of the agent for each level of consumption\n",
    "    '''\n",
    "    negative_c = c < 0.\n",
    "    if sigma == 1.:\n",
    "        U =  np.log(c)\n",
    "    else:\n",
    "        U= (c**(1-sigma) - 1)/(1-sigma)\n",
    "    U[negative_c] = -9999999.\n",
    "    return U\n",
    "\n",
    "U(9.0) # Executing this cell should work fine and not throw any errors!"
   ]
  },
  {
   "cell_type": "markdown",
   "metadata": {},
   "source": [
    "**Exercise 3.2** In the cell below I copied the `solveMcCallModel` and `iterateValueFunction` functions in a stand-alone version. Just with these two we can get a nice plot showing us how our Value function guesses converge to the true one.\n",
    "\n",
    "There is going to be three kinds of jobs: *bad* (2.0), *good* (3.0), and *awesome*(5.0). The unemployment benefit $c$ is fixed at 1.0. Therefore we have a vector of length 3 for each wage called `wages` and the probabilities associated with them are in a vector called `p`. The rest of parameters are detailed below.\n",
    "\n",
    "Add some bits to the functions below such that the next cell plot work!\n",
    "\n",
    "_**Note** it is necessary that you execute the cell above (the one that contains the stand alone Utility function) for it to work!_"
   ]
  },
  {
   "cell_type": "code",
   "execution_count": null,
   "metadata": {
    "collapsed": true,
    "scrolled": true
   },
   "outputs": [],
   "source": [
    "# Defining some parameters\n",
    "alpha =0.012 # Job destruction rate (exogenous)\n",
    "gamma = 0.5 # Offer arrival rate (exogenous)\n",
    "beta = 0.95 # Discount rate \n",
    "sigma = 3.0 # Risk aversion (matches the default above)\n",
    "wages = np.array([2.0,3.0,5.0]) # Wage vector\n",
    "p = np.array([0.3,0.5,0.2]) # Probability of receiveing each wage (adds to 1)\n",
    "\n",
    "def iterateValueFunction(c,w,V): \n",
    "    r'''\n",
    "    Iterates McCall search value function v    \n",
    "    Parameters\n",
    "    ----------    \n",
    "    c - (float) Level of unemployment insurance\n",
    "    w - (len(3) 1d-array) Vector of possible wages\n",
    "    V - (len(3) 1d-array) continuation value function if offered w[s] next period        \n",
    "    \n",
    "    Returns\n",
    "    --------\n",
    "    V_new - (len(3) 1d-array) current value function if offered w[s] this period \n",
    "    Choice - (len(3) 1d-array) do we accept or reject wage w[s]\n",
    "    '''\n",
    "    S = len(p)\n",
    "    Q = p.dot(V)# value before wage offer\n",
    "    V_U = (U(c*np.ones(S)) + beta*gamma*Q)/( 1-beta*(1-gamma) )\n",
    "    #stack value of accepting and rejecting offer on top of each other\n",
    "    stacked_values = np.vstack([ V_U,\n",
    "                                U(w) + (1-alpha)*beta*V + alpha*beta*V_U ]) \n",
    "                                    \n",
    "    #find whether it is optimal to accept or reject offer    \n",
    "    V_new = np.amax(stacked_values, axis = 0) \n",
    "    Choice = np.argmax(stacked_values, axis = 0)\n",
    "    return V_new,Choice\n",
    "        \n",
    "def solveMcCallModel(c,w,eps = 1e-6):\n",
    "    r'''\n",
    "    Solves the infinite horizon McCall search model        \n",
    "    Parameters\n",
    "    -----------        \n",
    "    c - (float) Level of unemployment insurance\n",
    "    w - (len(3) 1d-array) Vector of possible wages         \n",
    "    eps - (float) convergence criterion for infinite horizon\n",
    "    \n",
    "    Returns\n",
    "    --------        \n",
    "    V - (1d-array) Value function that solves the infinite horizon problem        \n",
    "    Choice - (1d-array) Optimal policy of workers\n",
    "    '''\n",
    "    S = len(p)\n",
    "    v = np.zeros(S) #intialize with zero\n",
    "    diff = 1.0  #holds difference v_{t+1}-v_t\n",
    "    # Some code could go here\n",
    "    # and here\n",
    "    while diff > eps:\n",
    "        v_new,choice = iterateValueFunction(c,w,v) \n",
    "        # Some code could go here\n",
    "        # and here\n",
    "        diff = float(np.amax( np.abs(v_new-v) ))#compute difference between value\n",
    "        v = v_new #copy v_new into v #add in infinte horizon solution\n",
    "            \n",
    "    return v,choice # maybe you could add something here?    "
   ]
  },
  {
   "cell_type": "code",
   "execution_count": null,
   "metadata": {
    "collapsed": true
   },
   "outputs": [],
   "source": [
    "# This cell should work fine and plot something nice!\n",
    "v_star, c_star, vs, cs = solveMcCallModel(1.0,problem_1.wstar)\n",
    "labels = [\"$V_1^*$\",\"$V_2^*$\",\"$V_3^*$\"]\n",
    "colors = [\"b\",\"g\",\"r\"]\n",
    "\n",
    "plt.figure(figsize=(7,5))\n",
    "plt.plot(vs)\n",
    "for s in range(len(v_star)):\n",
    "    plt.axhline(v_star[s], ls='--', lw=0.9,color=colors[s], label=labels[s])\n",
    "plt.legend(loc='best')\n",
    "plt.xlabel(\"iterations\")\n",
    "plt.ylabel(\"flow utility\")\n",
    "plt.title(\"Value Function Interation\")\n",
    "plt.show()"
   ]
  },
  {
   "cell_type": "markdown",
   "metadata": {},
   "source": [
    "** Exercise 3.3** How many iterations do you needed to converge? Does the worker accept all the three wage offers? Modify the code above to get the `solveMcCallModel` function to print this information. \n",
    "\n",
    "** Cool Exercise ** You can use the code above to have a lot of fun. For example:\n",
    "- What happens if you change the wage offers probability distribution? For example, make $p=[0.6,0.35,0.05]$\n",
    "- What happens if you change the wages available? For exmaple, add a *terrible* wage, or an extremaly good one: $w = [1.0,2.0,3.0,10.0]$ and $p=[0.1,0.45,0.4,0.05]$\n",
    "- What happens if you set the unemployment benefit to be 0? Will the worker accept a wage of 5.0 if the unemployment benefit is 3.0?\n",
    "- What happens if the worker gets more impatient?"
   ]
  },
  {
   "cell_type": "code",
   "execution_count": null,
   "metadata": {
    "collapsed": true
   },
   "outputs": [],
   "source": [
    "# Insert code here! (or do it somewhere else)"
   ]
  },
  {
   "cell_type": "markdown",
   "metadata": {},
   "source": [
    "** Exercise 3.4 ** The cell bellow imports all the `LakeModel` code. Can you call the right function to get the equilibrium unemployment rate related to the parameters we jsut used above? What is the tax that the goverment has to set to get 1.0 to all the unemployed workers?"
   ]
  },
  {
   "cell_type": "code",
   "execution_count": null,
   "metadata": {
    "collapsed": true
   },
   "outputs": [],
   "source": [
    "import LakeModel as lm\n",
    "\n",
    "# Defining wages distribution\n",
    "w_1 = np.array([2.0,3.0,5.0])\n",
    "pdf_1 = np.array([0.3,0.5,0.2])\n",
    "\n",
    "# Creating an instance\n",
    "model_1 = # insert code here!\n",
    "\n",
    "# Solving for everything\n",
    "Tax,Welfare,Flow_Unemp,Flow_Emp,eq_rates = # insert code here!\n",
    "print \"Unemployment rate: \",eq_rates[1]\n",
    "print \"Optimal tax: \",Tax\n",
    "print \"Total welfare: \",Welfare"
   ]
  },
  {
   "cell_type": "markdown",
   "metadata": {},
   "source": [
    "** Exercise 3.5 ** Find all of the above but for the case of the extended wage offers and change in probabilities $w = [1.0,2.0,3.0,10.0]$ and $p=[0.1,0.45,0.4,0.05]$."
   ]
  },
  {
   "cell_type": "code",
   "execution_count": null,
   "metadata": {
    "collapsed": true
   },
   "outputs": [],
   "source": [
    "# Your code here! - no need to import code again"
   ]
  },
  {
   "cell_type": "markdown",
   "metadata": {},
   "source": [
    "** Cool Exercise ** Iterate for certain reasonable values of $c$  and find (roughly) the optimal unemployment benefit $c^*$. Is our initial 1.0 too high or too low? Is a policy of 0 unemployment benefit the best one?\n",
    "\n",
    "** Cool Exercise ** Find the optimal tax if only employed workers pay the tax. Is this arrangement welfare improving?\n",
    "\n",
    "** Cool Exercise ** The `LakeModel` class can simulate the convergence to steady-state, but for fixed parameters $\\gamma$ and $\\alpha$. Change the code or write your own to simulate the response onf the unemployment rate to a shock such that $\\alpha = 0.02$ after 10 periods. _**Tip:** Use the functions from LakeModel.py to solve for the implied steady-states and their associated job finding rates, and then recycle the code in section 2 for the plot._"
   ]
  },
  {
   "cell_type": "code",
   "execution_count": null,
   "metadata": {
    "collapsed": true
   },
   "outputs": [],
   "source": [
    "# Insert code here! (or do it somewhere else)"
   ]
  },
  {
   "cell_type": "markdown",
   "metadata": {},
   "source": [
    "--------------\n",
    "After these exercises I hope you can appreciate the beauty of Object Oriented programming. How nice it is to only have to import the code and then call the functions without the user having to know all the bits inside?\n",
    "\n",
    "If you are writting code, organizing stuff in classes and fucntions helps you a lot to get your head around the code and can potetially help you to understand the theory better.\n",
    "\n",
    "And if you dind't write the code but have to go inside it to change stuff, it is much more easy to understand what is going on and which function depends on which if you compartiment them into classes. Just comapte the `LakeModel` bit with our own code in section 2. Isn't the *classified* one nicer?\n",
    "\n",
    "[Back to top](#top)\n",
    "_______________________"
   ]
  },
  {
   "cell_type": "markdown",
   "metadata": {},
   "source": [
    "<a id='part4'></a>\n",
    "## 4. Offer Distribution Unknown\n",
    "\n",
    "### 4.1 Changes to the previous Model\n",
    "\n",
    "Now we go beyond to explore the case were the agent does not know, a priori, the distrbiution of wages. Note that before the agent calculates the best policy instantaneously - actually, ALL the agents calcualte the best response at the begining of the period. The last **cool exercise** above dealt precisely with this assumption and what it did involve for unemployment dynamics.\n",
    "\n",
    "In this world the agen't does not know the distribution of wages, and learns about it by sampling wage offers. For exmaple, if the agent has received a series of offers of $[3.0, 3.0, 2.0, 3.0]$, then she thinks that the distribution is $E(p)_{t=4}=[0.25,0.75,0.0]$. But if she then gets a wage offer of 5.0, then she *updates her beliefs* to $E(p)_{t=5}=[0.2, 0.6, 0.2]$.\n",
    "\n",
    "However we are going to suppose that the agent is not in total darkness about teh state of the world, and she just doubts between two continuous distributions: $G$ and $F$ - you can think about them as \"Good times \" and \"Bad Times\". In \"Bad Times\" you have more chances of getting a low wage offer that in \"Good Times\". She updates her beliefs about the right distribution using  the *Bayes Rule*, which is a weighted average of how likely the wage sequence $w_t$ is under each of the possible distributions. More formally, call $\\pi_t$ the probability that we are in $f$ (bad times) and $w_t$ the sequence of wages obtained at time $t$:\n",
    "\n",
    "$$ \\pi_{t+1}=\\frac{\\pi_t f(w_{t+1})}{\\pi_t f(w_{t+1})+(1-\\pi_t) g(w_{t+1})} $$\n",
    "\n",
    "This is very interesting, because is introducing a bit of something called ***learning***: the agent does not have perfect knowledge about the *state of nature*, but she can *learn* which one is the true one. Learning takes time, and it is only perfect in the limit (as $t$ goes to infinity the agent *must* know the true distribution).\n",
    "\n",
    "Also note that now in the Value Function equation in the book we don't take utilities any more.\n",
    "\n",
    "** Quick exercise ** What does this imply to our agent risk aversion?\n",
    "\n",
    "** Quick exercise ** Why there are integrals now? Where were they in section 3?"
   ]
  },
  {
   "cell_type": "markdown",
   "metadata": {},
   "source": [
    "### 4.2 Value Function Iteration (VFI) vs Reservation Wage Operator\n",
    "\n",
    "You already know the mechanics behind the VFI: give a guess to $\\hat{V}$, iterate (calculate the new $V_s$ and $V_u$, compare them, and choose the highest ones to be our new $\\hat{V}$) until convergence. The fact that the equations can be encapsulated into a Bellman equation ensures convergence. Here the mecahnichs are similar, but notice that now we have a *continous* distribution, so we have potentially **infinite** $V_s$. This only complicates the math a little, but don't worry, the code will do it for us!\n",
    "\n",
    "Also before we didn't calculate the ***reservation wage*** (the wage for which we should reject all offers below it and accept above), because getting the choice vector was realatively easy - our wage distribution had only three points. Now the choice vector can have **a lot more** wages, so it makes sense to us to reformulate the Choice vector $C$ as $\\bar{w}(C)$ being $\\bar{w}$ our reservation wage.\n",
    "\n",
    "It is therefore a more clever approach, if we *know* that for some wage the agent *must* be indifferent between accpeting and staying unemployed ($V(\\bar{w})=V_u$) to just use the functional equation of the reservation wage (equation 4 in quantecon notes). \n",
    "\n",
    "This is more clever because now we onyl care about one number: the reservation wage. For VFI we needed to calculate and compare (maximize) **all** possible wages. Here we only need to calculate a single \"Value function\". This makes the algorithm much faster.\n",
    "\n",
    "At the core we are still going to use iteration. We know we will converge because the *Reservation Wage* function is a **contraction mapping**.\n",
    "\n",
    "Remember maps for part 1? We are searching for a **fixed point** (so $f(x)=x$), a contraction map (call ti $M$) reduces the distance between $x$ and $f(x)$ such that $M(f(x)-x)<(f(x)-x)$.\n",
    "\n",
    "We want to bring the distance between $f(x)$ and $x$ down to 0 (or as close to 0 as we can), so if we apply the map again: $M(M((f(x)-x))<M(f(x)-x)<(f(x)-x)$ we get then closer. Apply the Map enough times and you will bring the distance down to (or very close to) zero!\n",
    "\n",
    "You can read the [Take 2](http://quant-econ.net/py/odu.html#id12) part of the notes up for the technical details.\n",
    "\n",
    "** Quick question ** After looking at the equations of Take2, what is our mapping function in this context?"
   ]
  },
  {
   "cell_type": "markdown",
   "metadata": {},
   "source": [
    "### 4.3 Code Walktrhough\n",
    "\n",
    "Let's take a look to *odu.py*, shcih contains the `SearchProblem` class:\n",
    "\n",
    "* `__init__(params)` This function creates and stores the model class. It has some default parameters on it, but if you want to change them, their order is $\\beta=0.95$, $c=0.6$, $F_a=1$, $F_b=1$, $G_a=3$, $G_b=1.2$,$w_{max}=2$, $GridSize_w=40$, $GridSize_\\pi=40$. \n",
    "    - The $GridSize$ parameters contains the number of possible wages (and their probabilities).\n",
    "    - $(F_a,F_b)$ and $(G_a,G_b)$ are the parameters of the distributions $F$ and $G$. They are assumed to be [beta distributions](http://en.wikipedia.org/wiki/Beta_distribution).\n",
    "\n",
    "*  `__repr__` and  ` __str__`: These are not necessarity needed for the code to run, but it makes it nicer. They ensure that you call `print` ont eh instance, it will let you know what's inside it - instead of just saying \"instance of SearchProblem\", it will tell you the parameters the model contains.\n",
    "       \n",
    "* `q(w, pi)`: This function updates the probabily vector using bayes rule and the new wage (see equation in 4.1).\n",
    "     \n",
    "* `bellman_operator(v)`: This function is very similar to `iterateValueFunction` above, and does exactly the same thing - but in out continous space context. Don't get lost on the notation here - this function uses much fancier functions in the QantEcon library instead of doing everything from scratch like `iterateValueFunction`. If you are wondering what `fixed_quad` is, it is a handy function for calculating integrals. You may add it to the list of \"Top Ten python functions\" you should be writing. It returns the **next step** **Value functions**, $V_s^{t+1}$ for each $w_s$.\n",
    " \n",
    "* `get_greedy(self, v)`: Same thing, but this time it calculates and returns the next step **choice vector** $C^{t+1}$ - remember, 1 is accept, 0 reject. It takes a value function as argument.\n",
    "   \n",
    "* `res_wage_operator(phi)`: Given an inital guess of a reservation wage $\\bar{w}^t$ (which is a **scalar**!) returns the next step $\\bar{w}^{t+1}$ \n",
    "\n",
    "**Important note** To calculate the equilibrium of the model you'll need the `compute_fixed_point` function from the **quantecon** library.\n",
    "\n",
    "** Quick exercise ** Why do you need another function to compute the equilibrium? Why is it called `compute_fixed_point`?\n",
    "\n",
    "** Quick exercise ** Before we saw that pretty much all the functions in `LakeModel_Equilibrium` were interdependant. Are all the functions of `SearchProblem` independent (excluiding the first three)?"
   ]
  },
  {
   "cell_type": "markdown",
   "metadata": {},
   "source": [
    "**Exercise 4.1: Code Race!** Let's check which methods is faster! Insert your favourite number and execute the cell bellow - it will assing you randomly to *team VFI* and *team RWO*. On the count of three, execute the cell bellow that corresponds to yout team. Ready?"
   ]
  },
  {
   "cell_type": "code",
   "execution_count": null,
   "metadata": {
    "collapsed": true
   },
   "outputs": [],
   "source": [
    "# Improting libraries and functions\n",
    "from mpl_toolkits.mplot3d.axes3d import Axes3D\n",
    "from matplotlib import cm\n",
    "from scipy.interpolate import LinearNDInterpolator\n",
    "from quantecon import compute_fixed_point\n",
    "from quantecon.models import SearchProblem\n",
    "\n",
    "# Get your team!\n",
    "num = #Insert your favorite number here\n",
    "np.random.seed(num)\n",
    "teams = ['Team VFI','Team RWO']\n",
    "print 'Welcome to',teams[np.random.randint(0,2)],'!'"
   ]
  },
  {
   "cell_type": "code",
   "execution_count": null,
   "metadata": {
    "collapsed": true
   },
   "outputs": [],
   "source": [
    "############################### Team VFI #######################################\n",
    "\n",
    "sp = SearchProblem(w_grid_size=100, pi_grid_size=100)\n",
    "v_init = np.zeros(len(sp.grid_points)) + sp.c / (1 - sp.beta)\n",
    "v = compute_fixed_point(sp.bellman_operator, v_init)\n",
    "policy = sp.get_greedy(v)\n",
    "\n",
    "# Make functions from these arrays by interpolation\n",
    "vf = LinearNDInterpolator(sp.grid_points, v)\n",
    "pf = LinearNDInterpolator(sp.grid_points, policy)\n",
    "\n",
    "pi_plot_grid_size, w_plot_grid_size = 100, 100\n",
    "pi_plot_grid = np.linspace(0.001, 0.99, pi_plot_grid_size)\n",
    "w_plot_grid = np.linspace(0, sp.w_max, w_plot_grid_size)\n",
    "Z = np.empty((w_plot_grid_size, pi_plot_grid_size))\n",
    "for i in range(w_plot_grid_size):\n",
    "    for j in range(pi_plot_grid_size):\n",
    "        Z[i, j] = pf(w_plot_grid[i], pi_plot_grid[j])\n",
    "\n",
    "# Plotting bit\n",
    "fig, ax = plt.subplots(figsize=(9, 7))\n",
    "ax.contourf(pi_plot_grid, w_plot_grid, Z, 1, alpha=0.6, cmap=cm.jet)\n",
    "ax.contour(pi_plot_grid, w_plot_grid, Z, 1, colors=\"black\")\n",
    "plt.xlabel('Probability of being in Bad times',fontsize=14)\n",
    "plt.ylabel('Wage',fontsize=14)\n",
    "ax.text(0.4, 1.0, 'reject',fontsize=14)\n",
    "ax.text(0.7, 1.8, 'accept',fontsize=14)\n",
    "\n",
    "plt.show()"
   ]
  },
  {
   "cell_type": "code",
   "execution_count": null,
   "metadata": {
    "collapsed": true
   },
   "outputs": [],
   "source": [
    "############################### Team RWO #######################################\n",
    "\n",
    "sp = SearchProblem(pi_grid_size=50)\n",
    "phi_init = np.ones(len(sp.pi_grid)) \n",
    "w_bar = compute_fixed_point(sp.res_wage_operator, phi_init)\n",
    "\n",
    "fig, ax = plt.subplots(figsize=(9, 7))\n",
    "ax.plot(sp.pi_grid, w_bar, linewidth=2, color='black')\n",
    "ax.set_ylim(0, 2)\n",
    "ax.grid(axis='x', linewidth=0.25, linestyle='--', color='0.25')\n",
    "ax.grid(axis='y', linewidth=0.25, linestyle='--', color='0.25')\n",
    "ax.fill_between(sp.pi_grid, 0, w_bar, color='blue', alpha=0.15)\n",
    "ax.fill_between(sp.pi_grid, w_bar, 2, color='green', alpha=0.15)\n",
    "ax.text(0.42, 1.2, 'reject',fontsize=14)\n",
    "ax.text(0.7, 1.8, 'accept',fontsize=14)\n",
    "plt.xlabel('Probability of being in Bad times',fontsize=14)\n",
    "plt.ylabel('Wage',fontsize=14)\n",
    "plt.show()"
   ]
  },
  {
   "cell_type": "markdown",
   "metadata": {},
   "source": [
    "Now, do you think it's worthy to do more matehmatical manipulations to get faster running code?\n",
    "\n",
    "** Exercise 4.2: Back to Part 3 ** Below is a cell that plots different distributions of wages. Use the sample parameters of these distributions `(F_a=3, F_b=4,G_a=3, G_b=1.5,w_max=5.0)` and the parameters of the previous section `(beta = 0.95, c= 1.0)` to get the reservation wage graph from before."
   ]
  },
  {
   "cell_type": "code",
   "execution_count": null,
   "metadata": {
    "collapsed": true
   },
   "outputs": [],
   "source": [
    "# Plot the distributions - just execute\n",
    "from scipy.stats import beta as beta_distribution\n",
    "trial = beta_distribution(3, 4, scale=5.0)\n",
    "trial_2 = beta_distribution(3, 1.5, scale=5.0)\n",
    "plt.plot(np.arange(0,5.0,0.1),trial.pdf(np.arange(0,5.0,0.1)))\n",
    "plt.plot(np.arange(0,5.0,0.1),trial_2.pdf(np.arange(0,5.0,0.1)))\n",
    "plt.show()"
   ]
  },
  {
   "cell_type": "code",
   "execution_count": null,
   "metadata": {
    "collapsed": true
   },
   "outputs": [],
   "source": [
    "# Insert your code here! - Copy-Pasting highly recommended!"
   ]
  },
  {
   "cell_type": "code",
   "execution_count": null,
   "metadata": {
    "collapsed": true
   },
   "outputs": [],
   "source": [
    "#Plotting bit - this cell should execute fine!\n",
    "fig, ax = plt.subplots(figsize=(9, 7))\n",
    "ax.plot(sp.pi_grid, w_bar, linewidth=2, color='black')\n",
    "ax.set_ylim(0, 5)\n",
    "ax.grid(axis='x', linewidth=0.25, linestyle='--', color='0.25')\n",
    "ax.grid(axis='y', linewidth=0.25, linestyle='--', color='0.25')\n",
    "ax.fill_between(sp.pi_grid, 0, w_bar, color='blue', alpha=0.15)\n",
    "ax.fill_between(sp.pi_grid, w_bar, 5, color='green', alpha=0.15)\n",
    "ax.text(0.42, 2.0, 'reject',fontsize=14)\n",
    "plt.xlabel('Probability of being in Bad times',fontsize=14)\n",
    "plt.ylabel('Wage',fontsize=14)\n",
    "ax.text(0.7, 4.0, 'accept',fontsize=14)\n",
    "plt.show()"
   ]
  },
  {
   "cell_type": "markdown",
   "metadata": {},
   "source": [
    "Now look back at **Exercise 3.3**. Did the worker accepted a wage of 3.0 there? What chances of being in the Bad State require the agent to accept a wage of 3.0? Why do you think this is?"
   ]
  },
  {
   "cell_type": "code",
   "execution_count": null,
   "metadata": {
    "collapsed": true
   },
   "outputs": [],
   "source": [
    "# Insert your code here!"
   ]
  },
  {
   "cell_type": "markdown",
   "metadata": {},
   "source": [
    "** Cool Exercise ** Play around with the distributions so that the agent accepts a 3.0 even in case of being 100% sure of being in good times. Try to be as positive as you can!\n",
    "\n",
    "** Cool Exercise - NEED CHECKING ** One of the reasons behind the agent being so picky is related to the fact that the agent is now risk-neutral. Open the copy `odu.py` on your local folder and introduce risk-aversion back by copying the U(c) cell in `LakeModel.py`.\n",
    "\n",
    "_**Tip** It is easier to modify `bellman_operator` than `res_wage_operator`_\n",
    "\n",
    "_**Tip**  Don't forget about modifying `__init__` too! _"
   ]
  },
  {
   "cell_type": "markdown",
   "metadata": {},
   "source": [
    "### 4.4 Getting Dynamic\n",
    "\n",
    "Hidden in the solution notebook is the lost link to our Lake Model.\n",
    "\n",
    "Below is the copy of the code by Thomas Sargent and John Stachurski that simulates what happens to a Bathtub unemployment rate when the distribution of wages suffers a shock.\n",
    "\n",
    "The final exercise is to read the code, understand it, execute the cell and interpret the results in light of what we have done today. Off you go!"
   ]
  },
  {
   "cell_type": "code",
   "execution_count": null,
   "metadata": {
    "collapsed": true
   },
   "outputs": [],
   "source": [
    "from scipy import interp\n",
    "# Set up model and compute the function w_bar\n",
    "sp = SearchProblem(pi_grid_size=50, F_a=1, F_b=1)\n",
    "pi_grid, f, g, F, G = sp.pi_grid, sp.f, sp.g, sp.F, sp.G\n",
    "phi_init = np.ones(len(sp.pi_grid)) \n",
    "w_bar_vals = compute_fixed_point(sp.res_wage_operator, phi_init)\n",
    "w_bar = lambda x: interp(x, pi_grid, w_bar_vals)\n",
    "\n",
    "\n",
    "class Agent(object):\n",
    "    \"\"\"\n",
    "    Holds the employment state and beliefs of an individual agent.\n",
    "    \"\"\"\n",
    "\n",
    "    def __init__(self, pi=1e-3):\n",
    "        self.pi = pi\n",
    "        self.employed = 1\n",
    "\n",
    "    def update(self, H):\n",
    "        \"Update self by drawing wage offer from distribution H.\"\n",
    "        if self.employed == 0:\n",
    "            w = H.rvs()\n",
    "            if w >= w_bar(self.pi):\n",
    "                self.employed = 1\n",
    "            else:\n",
    "                self.pi = 1.0 / (1 + ((1 - self.pi) * g(w)) / (self.pi * f(w)))\n",
    "\n",
    "\n",
    "num_agents = 5000\n",
    "separation_rate = 0.025  # Fraction of jobs that end in each period \n",
    "separation_num = int(num_agents * separation_rate)\n",
    "agent_indices = list(range(num_agents))\n",
    "agents = [Agent() for i in range(num_agents)]\n",
    "sim_length = 600\n",
    "H = G  # Start with distribution G\n",
    "change_date = 200  # Change to F after this many periods\n",
    "\n",
    "unempl_rate = []\n",
    "for i in range(sim_length):\n",
    "    if i % 20 == 0:\n",
    "        print(\"date =\", i)\n",
    "    if i == change_date:\n",
    "        H = F\n",
    "    # Randomly select separation_num agents and set employment status to 0\n",
    "    np.random.shuffle(agent_indices)\n",
    "    separation_list = agent_indices[:separation_num]\n",
    "    for agent_index in separation_list:\n",
    "        agents[agent_index].employed = 0\n",
    "    # Update agents\n",
    "    for agent in agents:\n",
    "        agent.update(H)\n",
    "    employed = [agent.employed for agent in agents]\n",
    "    unempl_rate.append(1 - np.mean(employed))\n",
    "\n",
    "fig, ax = plt.subplots(figsize=(9, 7))\n",
    "ax.plot(unempl_rate, lw=2, alpha=0.8, label='unemployment rate')\n",
    "ax.axvline(change_date, color=\"red\")\n",
    "ax.legend()\n",
    "plt.show()"
   ]
  },
  {
   "cell_type": "markdown",
   "metadata": {},
   "source": [
    "Be my guest to modify the code and play around with it.\n",
    "\n",
    "[Back to top](#top)"
   ]
  },
  {
   "cell_type": "markdown",
   "metadata": {},
   "source": [
    "<a id='part5'></a>\n",
    "## 5. Wrap up\n",
    "\n",
    "A couple fo things to take with yourself at the end of this first Economic Application:\n",
    "\n",
    "* Coding economic problems is easier than it seems!\n",
    "\n",
    "* Coding economic problems helps you understand the intuition of the most abstract mechanisms at work by visualizing what you do. Never hesitate to plot a  function that is giving you a headache to solve/find!\n",
    "\n",
    "* Object Oriented Programming is useful for organizing ideas, presenting the code to others so they understand it easily and correcting bugs and typos. Ypu may not have experience much of this, but that consumes 90%+ of your time when coding.\n",
    "\n",
    "* Computers are a powerful aid to solve economic problems, but they do not displace math entirely. Sometimes is easier to do some manipulations to speed up the code rather than letting the computer fo all the work - unless you programm in C, and sometimes *even* that doesn't save you.\n",
    "\n",
    "* Coding economic problems we can answer certain questions difficult to answer - because there is no close-form solution of a problem, for example. It definitely encourages you to incorporate more realistic assumptions (like learning, or risk-aversion) that before would mean you spend a summer in your office doing algebra.\n",
    "\n",
    "Here are some cookies for coming!\n",
    "\n",
    "<img src=\"http://notyourmommascookie.com/wp-content/uploads/2013/02/grumpy-cat-cropped-Copy.jpg\">"
   ]
  },
  {
   "cell_type": "code",
   "execution_count": null,
   "metadata": {
    "collapsed": true
   },
   "outputs": [],
   "source": [
    "print \"FIN\""
   ]
  }
 ],
 "metadata": {
  "kernelspec": {
   "display_name": "Python 2",
   "language": "python",
   "name": "python2"
  },
  "language_info": {
   "codemirror_mode": {
    "name": "ipython",
    "version": 2
   },
   "file_extension": ".py",
   "mimetype": "text/x-python",
   "name": "python",
   "nbconvert_exporter": "python",
   "pygments_lexer": "ipython2",
   "version": "2.7.6"
  }
 },
 "nbformat": 4,
 "nbformat_minor": 0
}
